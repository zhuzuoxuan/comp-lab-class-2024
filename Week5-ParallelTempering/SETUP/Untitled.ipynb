{
 "cells": [
  {
   "cell_type": "code",
   "execution_count": null,
   "id": "c39202d2-db1d-431f-bf4b-404b99e8896a",
   "metadata": {},
   "outputs": [],
   "source": [
    "# Replica Exchange Simulation Setup\n",
    "\n",
    "This setup includes three directories named `T300`, `T400`, and `T600`, each containing a GROMACS run input file (`adp.tpr`). The directories and `adp.tpr` files are prepared for a replica exchange molecular dynamics simulation, with each directory representing a different temperature.\n",
    "\n",
    "## Directory Structure\n",
    "\n",
    "- **T300**: Contains `adp.tpr` with a temperature of **300 K**.\n",
    "- **T400**: Contains `adp.tpr` with a temperature of **363 K**.\n",
    "- **T600**: Contains `adp.tpr` with a temperature of **440 K**.\n",
    "\n",
    "## Modified Parameters\n",
    "\n",
    "The `adp.tpr` files in each directory were generated using the same `.mdp`, `.gro`, and `.top` files, with the following parameters adjusted in the `.mdp` file for each directory:\n",
    "\n",
    "- **ref_t**: Set to the target temperature for each replica.\n",
    "  - `T300`: `ref_t = 300` (Temperature 300 K)\n",
    "  - `T400`: `ref_t = 363` (Temperature 363 K)\n",
    "  - `T600`: `ref_t = 440` (Temperature 440 K)\n",
    "- **gen_temp**: The initial temperature for velocity generation, adjusted to match `ref_t`.\n",
    "  - `T300`: `gen_temp = 300`\n",
    "  - `T400`: `gen_temp = 363`\n",
    "  - `T600`: `gen_temp = 440`\n",
    "\n",
    "All other parameters (such as `nsteps`, `dt`, `integrator`, and `constraints`) remain identical across all three `.mdp` files to ensure compatibility between replicas during the exchange process.\n"
   ]
  }
 ],
 "metadata": {
  "kernelspec": {
   "display_name": "lab_env_2024",
   "language": "python",
   "name": "lab_env_2024"
  },
  "language_info": {
   "codemirror_mode": {
    "name": "ipython",
    "version": 3
   },
   "file_extension": ".py",
   "mimetype": "text/x-python",
   "name": "python",
   "nbconvert_exporter": "python",
   "pygments_lexer": "ipython3",
   "version": "3.9.12"
  }
 },
 "nbformat": 4,
 "nbformat_minor": 5
}

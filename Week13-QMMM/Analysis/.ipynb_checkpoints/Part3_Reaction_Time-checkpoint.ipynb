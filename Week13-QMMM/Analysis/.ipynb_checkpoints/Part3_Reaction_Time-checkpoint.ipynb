{
 "cells": [
  {
   "cell_type": "code",
   "execution_count": 5,
   "id": "b43475e7-0593-4063-910d-7181eb839ce3",
   "metadata": {},
   "outputs": [
    {
     "ename": "FileNotFoundError",
     "evalue": "[Errno 2] No such file or directory: '../Outputs/inpmetadynamics.inp'",
     "output_type": "error",
     "traceback": [
      "\u001b[0;31m---------------------------------------------------------------------------\u001b[0m",
      "\u001b[0;31mFileNotFoundError\u001b[0m                         Traceback (most recent call last)",
      "Cell \u001b[0;32mIn [5], line 5\u001b[0m\n\u001b[1;32m      2\u001b[0m metadynamics_inp_file \u001b[38;5;241m=\u001b[39m \u001b[38;5;124m'\u001b[39m\u001b[38;5;124m../Outputs/inpmetadynamics.inp\u001b[39m\u001b[38;5;124m'\u001b[39m\n\u001b[1;32m      4\u001b[0m \u001b[38;5;66;03m# Read the metadynamics parameters\u001b[39;00m\n\u001b[0;32m----> 5\u001b[0m \u001b[38;5;28;01mwith\u001b[39;00m \u001b[38;5;28;43mopen\u001b[39;49m\u001b[43m(\u001b[49m\u001b[43mmetadynamics_inp_file\u001b[49m\u001b[43m,\u001b[49m\u001b[43m \u001b[49m\u001b[38;5;124;43m'\u001b[39;49m\u001b[38;5;124;43mr\u001b[39;49m\u001b[38;5;124;43m'\u001b[39;49m\u001b[43m)\u001b[49m \u001b[38;5;28;01mas\u001b[39;00m file:\n\u001b[1;32m      6\u001b[0m     lines \u001b[38;5;241m=\u001b[39m file\u001b[38;5;241m.\u001b[39mreadlines()\n\u001b[1;32m      8\u001b[0m \u001b[38;5;66;03m# Initialize parameters\u001b[39;00m\n",
      "File \u001b[0;32m/ext3/miniconda3/lib/python3.9/site-packages/IPython/core/interactiveshell.py:282\u001b[0m, in \u001b[0;36m_modified_open\u001b[0;34m(file, *args, **kwargs)\u001b[0m\n\u001b[1;32m    275\u001b[0m \u001b[38;5;28;01mif\u001b[39;00m file \u001b[38;5;129;01min\u001b[39;00m {\u001b[38;5;241m0\u001b[39m, \u001b[38;5;241m1\u001b[39m, \u001b[38;5;241m2\u001b[39m}:\n\u001b[1;32m    276\u001b[0m     \u001b[38;5;28;01mraise\u001b[39;00m \u001b[38;5;167;01mValueError\u001b[39;00m(\n\u001b[1;32m    277\u001b[0m         \u001b[38;5;124mf\u001b[39m\u001b[38;5;124m\"\u001b[39m\u001b[38;5;124mIPython won\u001b[39m\u001b[38;5;124m'\u001b[39m\u001b[38;5;124mt let you open fd=\u001b[39m\u001b[38;5;132;01m{\u001b[39;00mfile\u001b[38;5;132;01m}\u001b[39;00m\u001b[38;5;124m by default \u001b[39m\u001b[38;5;124m\"\u001b[39m\n\u001b[1;32m    278\u001b[0m         \u001b[38;5;124m\"\u001b[39m\u001b[38;5;124mas it is likely to crash IPython. If you know what you are doing, \u001b[39m\u001b[38;5;124m\"\u001b[39m\n\u001b[1;32m    279\u001b[0m         \u001b[38;5;124m\"\u001b[39m\u001b[38;5;124myou can use builtins\u001b[39m\u001b[38;5;124m'\u001b[39m\u001b[38;5;124m open.\u001b[39m\u001b[38;5;124m\"\u001b[39m\n\u001b[1;32m    280\u001b[0m     )\n\u001b[0;32m--> 282\u001b[0m \u001b[38;5;28;01mreturn\u001b[39;00m \u001b[43mio_open\u001b[49m\u001b[43m(\u001b[49m\u001b[43mfile\u001b[49m\u001b[43m,\u001b[49m\u001b[43m \u001b[49m\u001b[38;5;241;43m*\u001b[39;49m\u001b[43margs\u001b[49m\u001b[43m,\u001b[49m\u001b[43m \u001b[49m\u001b[38;5;241;43m*\u001b[39;49m\u001b[38;5;241;43m*\u001b[39;49m\u001b[43mkwargs\u001b[49m\u001b[43m)\u001b[49m\n",
      "\u001b[0;31mFileNotFoundError\u001b[0m: [Errno 2] No such file or directory: '../Outputs/inpmetadynamics.inp'"
     ]
    }
   ],
   "source": [
    "# Define the file path for metadynamics.inp\n",
    "metadynamics_inp_file\n",
    "= '../Outputs/inpmetadynamics.inp'\n",
    "\n",
    "# Read the metadynamics parameters\n",
    "with open(metadynamics_inp_file, 'r') as file:\n",
    "    lines = file.readlines()\n",
    "\n",
    "# Initialize parameters\n",
    "hill_height = None\n",
    "hill_width = None\n",
    "hill_frequency = None\n",
    "\n",
    "# Parse the parameters from the file\n",
    "for line in lines:\n",
    "    if 'HILL_HEIGHT' in line:\n",
    "        hill_height = line.split('=')[1].strip()\n",
    "    elif 'HILL_WIDTH' in line:\n",
    "        hill_width = line.split('=')[1].strip()\n",
    "    elif 'HILL_FREQUENCY' in line:\n",
    "        hill_frequency = line.split('=')[1].strip()\n",
    "\n",
    "# Add labels to the plot\n",
    "plt.figure(figsize=(10, 6))\n",
    "plt.plot(init_monitor_data['Time_fs'], init_monitor_data['Reaction_Coordinate'],\n",
    "         label=f\"Reaction Coordinate (QM/MM)\\nHill Height: {hill_height} a.u., Hill Width: {hill_width} a.u., Hill Frequency: {hill_frequency} fs\",\n",
    "         linestyle='-', marker='.')\n",
    "\n",
    "# Add labels, title, and legend\n",
    "plt.xlabel(\"Time (fs)\")\n",
    "plt.ylabel(\"Reaction Coordinate\")\n",
    "plt.title(\"Reaction Coordinate vs Time (QM/MM)\")\n",
    "plt.legend()\n",
    "plt.grid()\n",
    "\n",
    "# Save the figure\n",
    "plt.savefig('Reaction_Coordinate_vs_Time_QMMM_Labeled.png', dpi=300)\n",
    "plt.show()\n"
   ]
  },
  {
   "cell_type": "code",
   "execution_count": null,
   "id": "f932c46c-0343-445e-9af3-f09b6ab8af5d",
   "metadata": {},
   "outputs": [],
   "source": []
  }
 ],
 "metadata": {
  "kernelspec": {
   "display_name": "lab_env_2024",
   "language": "python",
   "name": "lab_env_2024"
  },
  "language_info": {
   "codemirror_mode": {
    "name": "ipython",
    "version": 3
   },
   "file_extension": ".py",
   "mimetype": "text/x-python",
   "name": "python",
   "nbconvert_exporter": "python",
   "pygments_lexer": "ipython3",
   "version": "3.9.12"
  }
 },
 "nbformat": 4,
 "nbformat_minor": 5
}

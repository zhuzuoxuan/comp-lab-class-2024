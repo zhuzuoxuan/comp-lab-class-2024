{
 "cells": [
  {
   "cell_type": "code",
   "execution_count": 1,
   "id": "d1ed3a4f-2614-4890-a734-ea47ca06e6c6",
   "metadata": {},
   "outputs": [
    {
     "name": "stdout",
     "output_type": "stream",
     "text": [
      "Total number of hydrogen bonds: 57\n",
      "Total number of helical amino acids: 18\n"
     ]
    }
   ],
   "source": [
    "import mdtraj as md\n",
    "import numpy as np\n",
    "\n",
    "# Load the ubiquitin structure file (.pdb or any compatible format)\n",
    "\n",
    "structure_file = './Data/1UBQ_processed.pdb'  # Change this to your file location\n",
    "\n",
    "# Load the structure using mdtraj\n",
    "trajectory = md.load(structure_file)\n",
    "\n",
    "# Part a: Print the total number of hydrogen bonds\n",
    "# MDTraj provides a function to compute hydrogen bonds based on geometric criteria\n",
    "hbonds = md.baker_hubbard(trajectory, periodic=False)\n",
    "print(f'Total number of hydrogen bonds: {len(hbonds)}')\n",
    "\n",
    "# Part b: Compute the number of helical amino acids\n",
    "# Using MDTraj to compute the secondary structure\n",
    "secondary_structure = md.compute_dssp(trajectory)\n",
    "\n",
    "# Helices are identified as 'H' or 'G' in the DSSP output\n",
    "helical_residues = np.where((secondary_structure == 'H') | (secondary_structure == 'G'))[1]\n",
    "\n",
    "# Count the number of unique residues involved in helices\n",
    "num_helical_residues = len(np.unique(helical_residues))\n",
    "print(f'Total number of helical amino acids: {num_helical_residues}')\n"
   ]
  },
  {
   "cell_type": "code",
   "execution_count": null,
   "id": "ba62fff0-4021-4f3f-a9ac-970ffa95ea36",
   "metadata": {},
   "outputs": [],
   "source": []
  }
 ],
 "metadata": {
  "kernelspec": {
   "display_name": "lab_env_2024",
   "language": "python",
   "name": "lab_env_2024"
  },
  "language_info": {
   "codemirror_mode": {
    "name": "ipython",
    "version": 3
   },
   "file_extension": ".py",
   "mimetype": "text/x-python",
   "name": "python",
   "nbconvert_exporter": "python",
   "pygments_lexer": "ipython3",
   "version": "3.9.12"
  }
 },
 "nbformat": 4,
 "nbformat_minor": 5
}

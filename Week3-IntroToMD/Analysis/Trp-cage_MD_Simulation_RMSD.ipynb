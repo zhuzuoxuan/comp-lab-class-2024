{
 "cells": [
  {
   "cell_type": "code",
   "execution_count": null,
   "id": "6f7fa2c3-8fb4-4143-b8b7-9940fce3d49a",
   "metadata": {},
   "outputs": [],
   "source": [
    "import pandas as pd\n",
    "import matplotlib.pyplot as plt\n",
    "\n",
    "# File paths for the uploaded data\n",
    "file_path_rmsd = \"./Tpr-cage_MD_Simulation_RMSD.xvg\"\n",
    "file_path_rmsd_crystal = \"./Tpr-cage_MD_Simulation_RMSD_Crystal.xvg\"\n",
    "\n",
    "# Function to read and process the data from the .xvg files\n",
    "def read_xvg_file(file_path):\n",
    "    with open(file_path, 'r') as file:\n",
    "        lines = file.readlines()\n",
    "    # Filter out comments and extract data lines\n",
    "    data_lines = [line for line in lines if not line.startswith(('#', '@'))]\n",
    "    # Convert the data lines into a pandas DataFrame\n",
    "    return pd.DataFrame([list(map(float, line.split())) for line in data_lines], columns=[\"Time (ps)\", \"RMSD (nm)\"])\n",
    "\n",
    "# Load the RMSD data\n",
    "data_rmsd = read_xvg_file(file_path_rmsd)\n",
    "data_rmsd_crystal = read_xvg_file(file_path_rmsd_crystal)\n",
    "\n",
    "# Plotting both datasets in one figure\n",
    "plt.figure(figsize=(12, 8))\n",
    "\n",
    "# Plot RMSD data for simulation\n",
    "plt.plot(data_rmsd[\"Time (ps)\"], data_rmsd[\"RMSD (nm)\"], label='Equilibrated', color='b')\n",
    "\n",
    "# Plot RMSD data for crystal structure\n",
    "plt.plot(data_rmsd_crystal[\"Time (ps)\"], data_rmsd_crystal[\"RMSD (nm)\"], label='Crystal', color='r')\n",
    "\n",
    "# Customize the plot\n",
    "plt.title('RMSD')\n",
    "plt.xlabel('Time (ps)')\n",
    "plt.ylabel('RMSD (nm)')\n",
    "plt.legend()\n",
    "plt.grid(True)\n",
    "\n",
    "# Save and display the plot\n",
    "output_file_combined = \"/mnt/data/rmsd_comparison_plot.png\"\n",
    "plt.savefig(output_file_combined)\n",
    "plt.show()\n"
   ]
  }
 ],
 "metadata": {
  "kernelspec": {
   "display_name": "lab_env_2024",
   "language": "python",
   "name": "lab_env_2024"
  },
  "language_info": {
   "codemirror_mode": {
    "name": "ipython",
    "version": 3
   },
   "file_extension": ".py",
   "mimetype": "text/x-python",
   "name": "python",
   "nbconvert_exporter": "python",
   "pygments_lexer": "ipython3",
   "version": "3.9.12"
  }
 },
 "nbformat": 4,
 "nbformat_minor": 5
}
